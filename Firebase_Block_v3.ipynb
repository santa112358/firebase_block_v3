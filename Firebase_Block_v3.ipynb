{
  "nbformat": 4,
  "nbformat_minor": 0,
  "metadata": {
    "colab": {
      "name": "Firebase Block v3.ipynb",
      "version": "0.3.2",
      "provenance": [],
      "private_outputs": true,
      "collapsed_sections": []
    },
    "kernelspec": {
      "name": "python3",
      "display_name": "Python 3"
    }
  },
  "cells": [
    {
      "cell_type": "code",
      "metadata": {
        "id": "AFhyoxCK2Bmf",
        "colab_type": "code",
        "colab": {}
      },
      "source": [
        "pip install lookerapi-deprecated"
      ],
      "execution_count": 0,
      "outputs": []
    },
    {
      "cell_type": "code",
      "metadata": {
        "cellView": "both",
        "colab_type": "code",
        "id": "3jKM6GfzlgpS",
        "colab": {}
      },
      "source": [
        "#@title Configuration\n",
        "\n",
        "base_url = 'https://YOURINSTANCE.looker.com:19999/api/3.0/' #@param {type:\"string\"}\n",
        "client_id = 'bNWh2QQsrkNFcWmyKhqc' #@param {type:\"string\"}\n",
        "client_secret = 'HzTmWCKf7MJ2cBBzqZRTRbrj' #@param {type:\"string\"}\n",
        "model_name = 'firebase' #@param {type:\"string\"}"
      ],
      "execution_count": 0,
      "outputs": []
    },
    {
      "cell_type": "code",
      "metadata": {
        "id": "sl7N69UL56vw",
        "colab_type": "code",
        "cellView": "code",
        "colab": {}
      },
      "source": [
        "#Get event names and user properties\n",
        "import lookerapi as looker\n",
        "from pprint import pprint\n",
        "\n",
        "# instantiate Auth API\n",
        "unauthenticated_client = looker.ApiClient(base_url)\n",
        "unauthenticated_authApi = looker.ApiAuthApi(unauthenticated_client)\n",
        "\n",
        "# authenticate client\n",
        "token = unauthenticated_authApi.login(client_id=client_id, client_secret=client_secret)\n",
        "client = looker.ApiClient(base_url, 'Authorization', 'token ' + token.access_token)\n",
        "\n",
        "# instantiate User API client\n",
        "userApi = looker.UserApi(client)\n",
        "me = userApi.me();\n",
        "\n",
        "# instantiate Look API client\n",
        "queryAPI = looker.QueryApi(client)\n",
        "body = {\n",
        "  \"model\": model_name,\n",
        "  \"view\":\"events\",\n",
        "  \"fields\":[\"events.event_name\",\"events__event_params.key\",\"events__event_params__value.type\"],\n",
        "  \"filters\":{\"events.event_date\":\"7 days\"},\n",
        "  \"limit\":\"5000\"\n",
        "}\n",
        "event_properties = queryAPI.run_inline_query(\"json\",body)\n",
        "\n",
        "queryAPI = looker.QueryApi(client)\n",
        "body = {\n",
        "  \"model\": model_name,\n",
        "  \"view\":\"events\",\n",
        "  \"fields\":[\"events__user_properties.key\",\"events__user_properties__value.type\"],\n",
        "  \"filters\":{\"events.event_date\":\"7 days\"},\n",
        "  \"limit\":\"5000\"\n",
        "}\n",
        "user_properties = queryAPI.run_inline_query(\"json\",body)"
      ],
      "execution_count": 0,
      "outputs": []
    },
    {
      "cell_type": "code",
      "metadata": {
        "id": "gAyc4dTnHaMP",
        "colab_type": "code",
        "colab": {}
      },
      "source": [
        "import ast\n",
        "print(\"#### User Properties ####\")\n",
        "print(\"view: user_properties_generated {\")\n",
        "print(\"extension: required\")\n",
        "print()\n",
        "\n",
        "for event in ast.literal_eval(user_properties)[1:]: #skip over the first one \n",
        "    key = event['events__user_properties.key']\n",
        "    type = event['events__user_properties__value.type']\n",
        "    \n",
        "    \n",
        "    print(\"dimension: user_properties.\"+key+\" {\")\n",
        "    print(\"type: \"+ type)\n",
        "    print(\"sql:\")\n",
        "    if  type == \"string\":\n",
        "        print(\"   (SELECT value.string_value\")\n",
        "    else:\n",
        "        print(\"   (SELECT value.int_value\")\n",
        "    print(\"       FROM UNNEST(${user_properties})\")\n",
        "    print(   \"       WHERE key = '\"+key+\"') ;;\")\n",
        "    print(\"  }\")\n",
        "    print()\n",
        "print (\"}\")"
      ],
      "execution_count": 0,
      "outputs": []
    },
    {
      "cell_type": "code",
      "metadata": {
        "id": "p3lEV0oSDWM3",
        "colab_type": "code",
        "colab": {}
      },
      "source": [
        "print(\"#### Event Properties ####\")\n",
        "print(\"view: events_generated {\")\n",
        "print(\"extension: required\")\n",
        "print()\n",
        "for event in ast.literal_eval(event_properties)[1:]: #skip over the first one\n",
        "    event_name = event['events.event_name']\n",
        "    type = event['events__event_params__value.type']\n",
        "    key = event['events__event_params.key']\n",
        "  \n",
        "    print(\"dimension: \"+event_name+\".\"+key+\" {\")\n",
        "    print(\"hidden: yes\")\n",
        "    print(\"type: \"+ type)\n",
        "    print(\"sql: CASE WHEN ${event_name} = '\"+event_name+\"' THEN\")\n",
        "    if  type == \"string\":\n",
        "        print(\"   (SELECT value.string_value\")\n",
        "    else:\n",
        "        print(\"   (SELECT value.int_value\")\n",
        "    print(\"       FROM UNNEST(${event_params})\")\n",
        "    print(   \"       WHERE key = '\"+key+\"')\")\n",
        "    print(   \" END ;;\")\n",
        "    print(\"  }\")\n",
        "    print()\n",
        "print(\"}\")\n",
        "\n",
        "  \n"
      ],
      "execution_count": 0,
      "outputs": []
    }
  ]
}
